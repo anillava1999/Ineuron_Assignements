{
 "cells": [
  {
   "cell_type": "markdown",
   "id": "064105f7",
   "metadata": {},
   "source": [
    "<h1><center> Assignement One"
   ]
  },
  {
   "cell_type": "markdown",
   "id": "af3836f6",
   "metadata": {},
   "source": [
    "**1, What is indentation error? Why indentation is important? Give one simple example?**"
   ]
  },
  {
   "cell_type": "markdown",
   "id": "87e22d83",
   "metadata": {},
   "source": [
    "indentation error:\n",
    "\n",
    "    Indentation refers to the spaces at the beginning of a code line. Where in other programming languages the indentation in code is for readability only, the indentation in Python is very important. Python uses indentation to indicate a block of code.\n",
    "    "
   ]
  },
  {
   "cell_type": "markdown",
   "id": "71b074f2",
   "metadata": {},
   "source": [
    "indentation is important :\n",
    "* The much-maligned formatting technique, provides readers with a sense of continuity. \n",
    "* Indentations signal to the reader that she is about to dive into another topic or start a new section of a novel \n",
    "\n",
    "* They help present content in a logical fashion."
   ]
  },
  {
   "cell_type": "markdown",
   "id": "9cbd7ab4",
   "metadata": {},
   "source": [
    "Example:"
   ]
  },
  {
   "cell_type": "code",
   "execution_count": 3,
   "id": "a21a8782",
   "metadata": {},
   "outputs": [
    {
     "name": "stdout",
     "output_type": "stream",
     "text": [
      "0\n"
     ]
    }
   ],
   "source": [
    "for i in range(1):\n",
    "    print(i)"
   ]
  },
  {
   "cell_type": "code",
   "execution_count": 4,
   "id": "10888954",
   "metadata": {},
   "outputs": [
    {
     "ename": "IndentationError",
     "evalue": "expected an indented block (2860119136.py, line 2)",
     "output_type": "error",
     "traceback": [
      "\u001b[0;36m  Input \u001b[0;32mIn [4]\u001b[0;36m\u001b[0m\n\u001b[0;31m    print(i)\u001b[0m\n\u001b[0m    ^\u001b[0m\n\u001b[0;31mIndentationError\u001b[0m\u001b[0;31m:\u001b[0m expected an indented block\n"
     ]
    }
   ],
   "source": [
    "for i in range(1):\n",
    "print(i)"
   ]
  },
  {
   "cell_type": "markdown",
   "id": "48dae507",
   "metadata": {},
   "source": [
    "**2, Correct the following code and write the comment where you made the correction?**"
   ]
  },
  {
   "cell_type": "code",
   "execution_count": 16,
   "id": "f8c7b58d",
   "metadata": {},
   "outputs": [
    {
     "name": "stdout",
     "output_type": "stream",
     "text": [
      "Hey friend, is class started?: [0-False/1-True]1\n",
      "Since class started...\n",
      "Lets concentrate\n"
     ]
    }
   ],
   "source": [
    "class_started = bool(input(\"Hey friend, is class started?: [0-False/1-True]\"))  # we need to change the type conversion into \"int\" not for boolean \n",
    "\n",
    "if class_started:\n",
    "   print(\"Since class started...\")\n",
    "   print(\"Lets concentrate\")\n",
    "else:\n",
    "   print(\"Since class is not started...\")\n",
    "   print(\"let's revise\")"
   ]
  },
  {
   "cell_type": "markdown",
   "id": "858166d5",
   "metadata": {},
   "source": [
    "**3, Use if else condition to verify that dataype of input() method in python is always string**"
   ]
  },
  {
   "cell_type": "code",
   "execution_count": 19,
   "id": "39c7695d",
   "metadata": {},
   "outputs": [
    {
     "name": "stdout",
     "output_type": "stream",
     "text": [
      "Enter input 23\n",
      "it's not a string\n"
     ]
    }
   ],
   "source": [
    "data = input(\"Enter input \")\n",
    "if type(data)== 'string':\n",
    "    print(\"It's string \"+ data)\n",
    "else :\n",
    "    print(\"it's not a string\")"
   ]
  },
  {
   "cell_type": "markdown",
   "id": "ff96d5e8",
   "metadata": {},
   "source": [
    "**4, Take 3 variables and assign integer values to them. Find the largest variable, by only using the if and else conditions.**"
   ]
  },
  {
   "cell_type": "code",
   "execution_count": 26,
   "id": "f6d13ee5",
   "metadata": {},
   "outputs": [
    {
     "name": "stdout",
     "output_type": "stream",
     "text": [
      "60  is largest value\n"
     ]
    }
   ],
   "source": [
    "A,B,C = 60,50,40\n",
    "if A > B and A > C:\n",
    "    print(A, \" is largest value\")\n",
    "elif B > C :\n",
    "    print(B, \" is largest value\")\n",
    "else:\n",
    "    print(C, \" is largest value\")\n"
   ]
  },
  {
   "cell_type": "markdown",
   "id": "dea23db0",
   "metadata": {},
   "source": [
    "**5. What would be the solution?**\n",
    "\n",
    "1. True\n",
    "\n",
    "2. False"
   ]
  },
  {
   "cell_type": "code",
   "execution_count": null,
   "id": "65726969",
   "metadata": {},
   "outputs": [],
   "source": [
    "a = 6\n",
    "b = 10\n",
    "print( not ( not a == 10 or not b == 10) )"
   ]
  },
  {
   "cell_type": "markdown",
   "id": "2a40ab9e",
   "metadata": {},
   "source": [
    "Answe is False"
   ]
  },
  {
   "cell_type": "markdown",
   "id": "16a926da",
   "metadata": {},
   "source": [
    "**6. Find the answer as well as find out the reason behind the result?**"
   ]
  },
  {
   "cell_type": "markdown",
   "id": "6f69cc98",
   "metadata": {},
   "source": [
    "**Case 1**"
   ]
  },
  {
   "cell_type": "code",
   "execution_count": null,
   "id": "64aba340",
   "metadata": {},
   "outputs": [],
   "source": [
    "A = 5.0\n",
    "B = 10/2\n",
    "print(A is B)"
   ]
  },
  {
   "cell_type": "code",
   "execution_count": 56,
   "id": "cafac7a4",
   "metadata": {},
   "outputs": [
    {
     "name": "stdout",
     "output_type": "stream",
     "text": [
      "140293692488464\n",
      "140293692010288\n"
     ]
    }
   ],
   "source": [
    "print(id(A))\n",
    "print(id(B))"
   ]
  },
  {
   "cell_type": "markdown",
   "id": "fff2a961",
   "metadata": {},
   "source": [
    "Answer is False, Becuase both address is different "
   ]
  },
  {
   "cell_type": "markdown",
   "id": "14731c59",
   "metadata": {},
   "source": [
    "**Case 2**"
   ]
  },
  {
   "cell_type": "code",
   "execution_count": null,
   "id": "b82fe74f",
   "metadata": {},
   "outputs": [],
   "source": [
    "A = 5.0\n",
    "B = int(10/2)\n",
    "print(A is B)"
   ]
  },
  {
   "cell_type": "markdown",
   "id": "c3ef2ca8",
   "metadata": {},
   "source": [
    "Answer is False, Becuase both address is different "
   ]
  },
  {
   "cell_type": "markdown",
   "id": "9d4c5120",
   "metadata": {},
   "source": [
    "**Case 3**"
   ]
  },
  {
   "cell_type": "code",
   "execution_count": null,
   "id": "36b6bee6",
   "metadata": {},
   "outputs": [],
   "source": [
    "A = 5.0\n",
    "B = float(10/2)\n",
    "print(A is B)"
   ]
  },
  {
   "cell_type": "markdown",
   "id": "50e79eac",
   "metadata": {},
   "source": [
    "Answer is False, Becuase both address is different "
   ]
  },
  {
   "cell_type": "markdown",
   "id": "7b0c7198",
   "metadata": {},
   "source": [
    "**7. Write a program that asks the user to enter a number. You should print out a message to the user, either “That number is divisible by either 3 or 5”, or “That number is not divisible by either 3 or 5”. Be sure to consider the data type of the input you are taking in from the user. Use a single if/else block to solve this problem.**"
   ]
  },
  {
   "cell_type": "code",
   "execution_count": 41,
   "id": "2640f92c",
   "metadata": {},
   "outputs": [
    {
     "name": "stdout",
     "output_type": "stream",
     "text": [
      "Please enter a number4\n",
      "4  That number is not divisible by either 3 or 5\n"
     ]
    }
   ],
   "source": [
    "Data = int(input(\"Please enter a number\"))\n",
    "if(Data%3 == 0 or Data%5==0):\n",
    "    print(Data, \" That number is divisible by either 3 or 5\")\n",
    "else :\n",
    "    print(Data, \" That number is not divisible by either 3 or 5\")"
   ]
  },
  {
   "cell_type": "markdown",
   "id": "a2fa8548",
   "metadata": {},
   "source": [
    "**8. Take user input for length and width. Then calculate the area of rectangle. Also print as per length and width whether its a square of rectangle.**"
   ]
  },
  {
   "cell_type": "code",
   "execution_count": 46,
   "id": "4336887f",
   "metadata": {},
   "outputs": [
    {
     "name": "stdout",
     "output_type": "stream",
     "text": [
      "Please give the length 41\n",
      "Please give the width 22\n",
      "Area of rectangle is 902\n"
     ]
    }
   ],
   "source": [
    "length = int(input(\"Please give the length \"))\n",
    "width = int(input(\"Please give the width \"))\n",
    "area = length*width\n",
    "print(\"Area of rectangle is\" ,area)"
   ]
  },
  {
   "cell_type": "markdown",
   "id": "7b7042e2",
   "metadata": {},
   "source": [
    "**9. Take two variable radius_1 and radius_2 and calculate the area of circle_1 and circle_2. Also print which circle has large area. If area is equal then print area is equal.**"
   ]
  },
  {
   "cell_type": "code",
   "execution_count": 47,
   "id": "154e1e30",
   "metadata": {},
   "outputs": [
    {
     "name": "stdout",
     "output_type": "stream",
     "text": [
      "Input the radius of the circle : 334\n",
      "The area of the circle with radius 334.0 is: 350463.51006386295\n"
     ]
    }
   ],
   "source": [
    "from math import pi\n",
    "r = float(input (\"Input the radius of the circle : \"))\n",
    "print (\"The area of the circle with radius \" + str(r) + \" is: \" + str(pi * r**2))"
   ]
  },
  {
   "cell_type": "markdown",
   "id": "5bddd57c",
   "metadata": {},
   "source": [
    "**10. Check whether a year is leap year or not. Use nested if...else to solve this problem. A leap year is exactly divisible by 4 except for century years (years ending with 00). The century year is a leap year only if it is perfectly divisible by 400.**"
   ]
  },
  {
   "cell_type": "code",
   "execution_count": 51,
   "id": "4c4b6de6",
   "metadata": {},
   "outputs": [
    {
     "name": "stdout",
     "output_type": "stream",
     "text": [
      "please enter year2001\n",
      "2001 is not a leap year\n"
     ]
    }
   ],
   "source": [
    "\n",
    "year = int(input(\"please enter year\"))\n",
    "\n",
    "if (year % 400 == 0) and (year % 100 == 0):\n",
    "    print(\"{0} is a leap year\".format(year))\n",
    "elif (year % 4 ==0) and (year % 100 != 0):\n",
    "    print(\"{0} is a leap year\".format(year))\n",
    "else:\n",
    "    print(\"{0} is not a leap year\".format(year))"
   ]
  }
 ],
 "metadata": {
  "kernelspec": {
   "display_name": "Python 3 (ipykernel)",
   "language": "python",
   "name": "python3"
  },
  "language_info": {
   "codemirror_mode": {
    "name": "ipython",
    "version": 3
   },
   "file_extension": ".py",
   "mimetype": "text/x-python",
   "name": "python",
   "nbconvert_exporter": "python",
   "pygments_lexer": "ipython3",
   "version": "3.9.12"
  }
 },
 "nbformat": 4,
 "nbformat_minor": 5
}
