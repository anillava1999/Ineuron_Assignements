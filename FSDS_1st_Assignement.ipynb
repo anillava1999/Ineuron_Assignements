{
 "cells": [
  {
   "cell_type": "markdown",
   "id": "52aecb0d",
   "metadata": {},
   "source": [
    "<h1><center>Ineuron Python Basic 1st Assignement"
   ]
  },
  {
   "cell_type": "markdown",
   "id": "c42cbf81",
   "metadata": {},
   "source": [
    "**1. In the below elements which of them are values or an expression? eg:- values can be integer or string and expressions will be mathematical operators.**\n",
    "*  *\n",
    "* &#39;hello&#39;\n",
    "* -87.8\n",
    "* -\n",
    "* /\n",
    "* +\n",
    "* 6"
   ]
  },
  {
   "cell_type": "raw",
   "id": "23728f75",
   "metadata": {},
   "source": [
    "* *        ---> Multiply Mathematical Operator\n",
    "* 'hello'  ---> String\n",
    "* -87.8    ---> Float\n",
    "* -        ---> Minus Mathematical Operator\n",
    "* /        ---> Division Mathematical Operator\n",
    "* +        ---> Addition Matehmatical Operator\n",
    "* 6        ---> Integer"
   ]
  },
  {
   "cell_type": "markdown",
   "id": "3c071efd",
   "metadata": {},
   "source": [
    "**2. What is the difference between string and variable?**"
   ]
  },
  {
   "cell_type": "markdown",
   "id": "e5e2a5e7",
   "metadata": {},
   "source": [
    "Variables are symbols that you can use to store data in a program. You can think of them as an empty box that you fill with some data or value.\n",
    "\n",
    "Strings are data, so we can use them to fill up a variable."
   ]
  },
  {
   "cell_type": "markdown",
   "id": "21231000",
   "metadata": {},
   "source": [
    "**3. Describe three different data types**"
   ]
  },
  {
   "cell_type": "markdown",
   "id": "b528804f",
   "metadata": {},
   "source": [
    "* Integer ---> This data type contains only whole numbers \n",
    "              example --> 5364\n",
    "* Floats  ---> This data type contains only Decimal Numbers\t\n",
    "              example ---> 3.1415\t\n",
    "* Booleans ---> This data type contains only two values that are respesent in True or False \t"
   ]
  },
  {
   "cell_type": "markdown",
   "id": "f571ee9e",
   "metadata": {},
   "source": [
    "**4. What is an expression made up of? What do all expressions do?**"
   ]
  },
  {
   "cell_type": "markdown",
   "id": "67189fef",
   "metadata": {},
   "source": [
    "An expression is a combination of operators and operands that is interpreted to produce some other value. In any programming language, an expression is evaluated as per the precedence of its operators."
   ]
  },
  {
   "cell_type": "markdown",
   "id": "144f2309",
   "metadata": {},
   "source": [
    "* **1. Constant Expressions:** These are the expressions that have constant values only."
   ]
  },
  {
   "cell_type": "code",
   "execution_count": 5,
   "id": "59558e9e",
   "metadata": {},
   "outputs": [
    {
     "name": "stdout",
     "output_type": "stream",
     "text": [
      "27.4\n"
     ]
    }
   ],
   "source": [
    "# Constant Expressions\n",
    "x = 20 + 7.4\n",
    "\n",
    "print(x)\n"
   ]
  },
  {
   "cell_type": "markdown",
   "id": "3a669ff1",
   "metadata": {},
   "source": [
    "* 2. **Arithmetic Expressions:** An arithmetic expression is a combination of numeric values, operators, and sometimes parenthesis. The result of this type of expression is also a numeric value. The operators used in these expressions are arithmetic operators like addition, subtraction, etc. Here are some arithmetic operators in Python:"
   ]
  },
  {
   "cell_type": "code",
   "execution_count": 7,
   "id": "9cecc2af",
   "metadata": {},
   "outputs": [
    {
     "name": "stdout",
     "output_type": "stream",
     "text": [
      "52\n",
      "28\n",
      "480\n",
      "3.3333333333333335\n"
     ]
    }
   ],
   "source": [
    "# Arithmetic Expressions\n",
    "x = 40\n",
    "y = 12\n",
    "\n",
    "add = x + y\n",
    "sub = x - y\n",
    "pro = x * y\n",
    "div = x / y\n",
    "\n",
    "print(add)\n",
    "print(sub)\n",
    "print(pro)\n",
    "print(div)\n"
   ]
  },
  {
   "cell_type": "markdown",
   "id": "a20887f8",
   "metadata": {},
   "source": [
    "\n",
    "**3. Integral Expressions:** These are the kind of expressions that produce only integer results after all computations and type conversions."
   ]
  },
  {
   "cell_type": "code",
   "execution_count": 8,
   "id": "5b539893",
   "metadata": {},
   "outputs": [
    {
     "name": "stdout",
     "output_type": "stream",
     "text": [
      "25\n"
     ]
    }
   ],
   "source": [
    "# Integral Expressions\n",
    "a = 13\n",
    "b = 12.0\n",
    "\n",
    "c = a + int(b)\n",
    "print(c)\n"
   ]
  },
  {
   "cell_type": "markdown",
   "id": "9bb4e460",
   "metadata": {},
   "source": [
    "**4. Floating Expressions:** These are the kind of expressions which produce floating point numbers as result after all computations and type conversions."
   ]
  },
  {
   "cell_type": "code",
   "execution_count": 9,
   "id": "b40e2d94",
   "metadata": {},
   "outputs": [
    {
     "name": "stdout",
     "output_type": "stream",
     "text": [
      "2.6\n"
     ]
    }
   ],
   "source": [
    "# Floating Expressions\n",
    "a = 13\n",
    "b = 5\n",
    "\n",
    "c = a / b\n",
    "print(c)\n"
   ]
  },
  {
   "cell_type": "markdown",
   "id": "ee880497",
   "metadata": {},
   "source": [
    "**5. Relational Expressions:** In these types of expressions, arithmetic expressions are written on both sides of relational operator (> , < , >= , <=). Those arithmetic expressions are evaluated first, and then compared as per relational operator and produce a boolean output in the end. These expressions are also called Boolean expressions."
   ]
  },
  {
   "cell_type": "code",
   "execution_count": 10,
   "id": "61884626",
   "metadata": {},
   "outputs": [
    {
     "name": "stdout",
     "output_type": "stream",
     "text": [
      "True\n"
     ]
    }
   ],
   "source": [
    "# Relational Expressions\n",
    "a = 21\n",
    "b = 13\n",
    "c = 40\n",
    "d = 37\n",
    "\n",
    "p = (a + b) >= (c - d)\n",
    "print(p)\n"
   ]
  },
  {
   "cell_type": "markdown",
   "id": "81db4b89",
   "metadata": {},
   "source": [
    "**6. Logical Expressions:** These are kinds of expressions that result in either True or False. It basically specifies one or more conditions. For example, (10 == 9) is a condition if 10 is equal to 9. As we know it is not correct, so it will return False. Studying logical expressions, we also come across some logical operators which can be seen in logical expressions most often. Here are some logical operators in Python:"
   ]
  },
  {
   "cell_type": "code",
   "execution_count": 11,
   "id": "5edc1eeb",
   "metadata": {},
   "outputs": [
    {
     "name": "stdout",
     "output_type": "stream",
     "text": [
      "False\n",
      "True\n",
      "True\n"
     ]
    }
   ],
   "source": [
    "P = (10 == 9)\n",
    "Q = (7 > 5)\n",
    "\n",
    "# Logical Expressions\n",
    "R = P and Q\n",
    "S = P or Q\n",
    "T = not P\n",
    "\n",
    "print(R)\n",
    "print(S)\n",
    "print(T)\n"
   ]
  },
  {
   "cell_type": "markdown",
   "id": "4c0b703b",
   "metadata": {},
   "source": [
    "**7. Bitwise Expressions:** These are the kind of expressions in which computations are performed at bit level."
   ]
  },
  {
   "cell_type": "code",
   "execution_count": 12,
   "id": "2f89eba1",
   "metadata": {},
   "outputs": [
    {
     "name": "stdout",
     "output_type": "stream",
     "text": [
      "3 24\n"
     ]
    }
   ],
   "source": [
    "# Bitwise Expressions\n",
    "a = 12\n",
    "\n",
    "x = a >> 2\n",
    "y = a << 1\n",
    "\n",
    "print(x, y)\n"
   ]
  },
  {
   "cell_type": "markdown",
   "id": "637be41a",
   "metadata": {},
   "source": [
    "**8. Combinational Expressions:** We can also use different types of expressions in a single expression, and that will be termed as combinational expressions."
   ]
  },
  {
   "cell_type": "code",
   "execution_count": 13,
   "id": "fadd2e76",
   "metadata": {},
   "outputs": [
    {
     "name": "stdout",
     "output_type": "stream",
     "text": [
      "22\n"
     ]
    }
   ],
   "source": [
    "# Combinational Expressions\n",
    "a = 16\n",
    "b = 12\n",
    "\n",
    "c = a + (b >> 1)\n",
    "print(c)\n"
   ]
  },
  {
   "cell_type": "markdown",
   "id": "14805c08",
   "metadata": {},
   "source": [
    "**5. This assignment statements, like spam = 10. What is the difference between an\n",
    "expression and a statement?**"
   ]
  },
  {
   "cell_type": "markdown",
   "id": "5288294c",
   "metadata": {},
   "source": [
    "In programming language terminology, an “expression” is a combination of values and functions that are combined and interpreted by the compiler to create a new value, as opposed to a “statement” which is just a standalone unit of execution and doesn't return anything.\n",
    "\n",
    "An expression evaluates to a single value. A statement does not."
   ]
  },
  {
   "cell_type": "markdown",
   "id": "2085f828",
   "metadata": {},
   "source": [
    "**6. After running the following code, what does the variable bacon contain?**\n",
    "\n",
    "\n",
    "bacon = 22\n",
    "\n",
    "bacon + 1"
   ]
  },
  {
   "cell_type": "markdown",
   "id": "ce79ed95",
   "metadata": {},
   "source": [
    "The variable will contain 23 value, it increment the value"
   ]
  },
  {
   "cell_type": "markdown",
   "id": "0b41157d",
   "metadata": {},
   "source": [
    "**7. What should the values of the following two terms be?**\n",
    "\n",
    "'spam'+'spamspam'\n",
    "\n",
    "'spam' * 3"
   ]
  },
  {
   "cell_type": "markdown",
   "id": "c2e6b70e",
   "metadata": {},
   "source": [
    "The answer will be same for both --> 'spamspamspam'"
   ]
  },
  {
   "cell_type": "markdown",
   "id": "de8d7e0b",
   "metadata": {},
   "source": [
    "**8. Why is eggs a valid variable name while 100 is invalid?**"
   ]
  },
  {
   "cell_type": "markdown",
   "id": "771c2eb9",
   "metadata": {},
   "source": [
    "Variable names cannot begin with a number"
   ]
  },
  {
   "cell_type": "markdown",
   "id": "1d5645a3",
   "metadata": {},
   "source": [
    "**9. What three functions can be used to get the integer, floating-point number, or string\n",
    "version of a value?**"
   ]
  },
  {
   "cell_type": "markdown",
   "id": "5ccf51b4",
   "metadata": {},
   "source": [
    "The int() , float() , and str( ) functions will evaluate to the integer, floating-point number, and string versions of the value passed to them."
   ]
  },
  {
   "cell_type": "markdown",
   "id": "faab5379",
   "metadata": {},
   "source": [
    "**10. Why does this expression cause an error? How can you fix it?**\n"
   ]
  },
  {
   "cell_type": "markdown",
   "id": "d8f0abd0",
   "metadata": {},
   "source": [
    "'I have eaten' + 99 + 'burritos'"
   ]
  },
  {
   "cell_type": "markdown",
   "id": "9f9ab42f",
   "metadata": {},
   "source": [
    "The expression causes an error because 99 is an integer, and only strings can be concatenated to other strings with the + operator. The correct way is I have eaten ' + str(99) + ' burritos.'."
   ]
  }
 ],
 "metadata": {
  "kernelspec": {
   "display_name": "Python 3 (ipykernel)",
   "language": "python",
   "name": "python3"
  },
  "language_info": {
   "codemirror_mode": {
    "name": "ipython",
    "version": 3
   },
   "file_extension": ".py",
   "mimetype": "text/x-python",
   "name": "python",
   "nbconvert_exporter": "python",
   "pygments_lexer": "ipython3",
   "version": "3.9.12"
  }
 },
 "nbformat": 4,
 "nbformat_minor": 5
}
