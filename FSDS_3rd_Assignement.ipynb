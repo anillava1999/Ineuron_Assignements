{
 "cells": [
  {
   "cell_type": "markdown",
   "id": "cb105cc1",
   "metadata": {},
   "source": [
    "<h1><center>Ineuron Python Basic 3rd Assignement"
   ]
  },
  {
   "cell_type": "markdown",
   "id": "6342c31f",
   "metadata": {},
   "source": [
    "**1. Why are functions advantageous to have in your programs?**"
   ]
  },
  {
   "cell_type": "markdown",
   "id": "c856eadd",
   "metadata": {},
   "source": [
    "Advantages of having functions:\n",
    "Functions reduce the need for duplicate code. This makes programs shorter, easier to read, and easier to update."
   ]
  },
  {
   "cell_type": "markdown",
   "id": "d418cefe",
   "metadata": {},
   "source": [
    "**Q2. When does the code in a function run:when it's specified or when it's called?**"
   ]
  },
  {
   "cell_type": "markdown",
   "id": "aa89ed37",
   "metadata": {},
   "source": [
    "Code in the function runs when the function is called"
   ]
  },
  {
   "cell_type": "markdown",
   "id": "dbf35812",
   "metadata": {},
   "source": [
    "**Q3. What statement creates a function?**"
   ]
  },
  {
   "cell_type": "markdown",
   "id": "a208bf24",
   "metadata": {},
   "source": [
    "The def statement defines (i.e. creates) a function"
   ]
  },
  {
   "cell_type": "code",
   "execution_count": 2,
   "id": "68fd8a29",
   "metadata": {},
   "outputs": [],
   "source": [
    "def my_fun():\n",
    "    pass"
   ]
  },
  {
   "cell_type": "markdown",
   "id": "22cc432e",
   "metadata": {},
   "source": [
    "**Q4. What is the difference between a function and a function call?**"
   ]
  },
  {
   "cell_type": "code",
   "execution_count": 3,
   "id": "c9cc6d11",
   "metadata": {},
   "outputs": [],
   "source": [
    "#def of func\n",
    "def my_func(): \n",
    "    pass \n",
    "my_func() #calling of function"
   ]
  },
  {
   "cell_type": "markdown",
   "id": "7a11d284",
   "metadata": {},
   "source": [
    "A function consists of the def statement and the code in its def clause.\n",
    "\n",
    "A function call is what moves the program execution into the function, and the function call evaluates to the function's return value."
   ]
  },
  {
   "cell_type": "markdown",
   "id": "e5a6720b",
   "metadata": {},
   "source": [
    "**Q5. How many global scopes are there in a Python program? How many local scopes?**\n",
    "\n",
    "Ans .There's only one global Python scope per program execution. This scope remains in existence until the program terminates , and a local scope is created whenever a function is called."
   ]
  },
  {
   "cell_type": "markdown",
   "id": "e3142e83",
   "metadata": {},
   "source": [
    "**Q6. What happens to variables in a local scope when the function call returns?**\n",
    "\n",
    "Ans. When a function returns, the local scope is destroyed."
   ]
  },
  {
   "cell_type": "markdown",
   "id": "bf8b5037",
   "metadata": {},
   "source": [
    "**Q7. What is the concept of a return value? Is it possible to have a return value in an expression?**\n",
    "\n",
    "Ans. A return value is the value that a function call evaluates to. Like any value, a return value can be used as part of an expression."
   ]
  },
  {
   "cell_type": "markdown",
   "id": "f0daf6e8",
   "metadata": {},
   "source": [
    "**Q8. If a function does not have a return statement, what is the return value of a call to that function?**\n",
    "\n",
    "Ans. If the funtion does not have a return statement it will not return anything."
   ]
  },
  {
   "cell_type": "markdown",
   "id": "395d66a0",
   "metadata": {},
   "source": [
    "**Q9. How do you make a function variable refer to the global variable?**\n",
    "\n",
    "Ans. To make function variable as a global variable you can use the global keyword to declare which variables are global."
   ]
  },
  {
   "cell_type": "markdown",
   "id": "42556d47",
   "metadata": {},
   "source": [
    "**Q10. What is the data type of None?**\n",
    "\n",
    "Ans . The data type of None is NoneType."
   ]
  },
  {
   "cell_type": "markdown",
   "id": "03645987",
   "metadata": {},
   "source": [
    "**Q11. What does the sentence import areallyourpetsnamederic do?**\n",
    "\n",
    "Ans .That import statement imports a module named areallyourpetsnamederic. (But a module of this name doesnt exists in Python)"
   ]
  },
  {
   "cell_type": "markdown",
   "id": "7fdae6e7",
   "metadata": {},
   "source": [
    "**Q12. If you had a bacon() feature in a spam module, what would you call it after importing spam?**\n",
    "\n",
    "Ans .\n",
    "\n",
    "\n",
    "import spam\n",
    "\n",
    "spam.bacon()"
   ]
  },
  {
   "cell_type": "markdown",
   "id": "1e6e3a64",
   "metadata": {},
   "source": [
    "**Q13. What can you do to save a programme from crashing if it encounters an error?**\n",
    "\n",
    "Ans. We can use try except clause to save a program from crashing."
   ]
  },
  {
   "cell_type": "markdown",
   "id": "1430cbd6",
   "metadata": {},
   "source": [
    "**Q14. What is the purpose of the try clause? What is the purpose of the except clause?**\n",
    "\n",
    "Ans. Try and Except clause is used to handle the errors within our code . The try block is used to check some code for errors i.e the code inside the try block will execute when there is no error in the program. Whereas the code inside the except block will execute whenever the program encounters some error in the try block.\n",
    "\n",
    "Eg. try:\n",
    "* Code\n",
    "\n",
    "except:\n",
    "* Executed if error in the\n",
    "* try block"
   ]
  },
  {
   "cell_type": "code",
   "execution_count": null,
   "id": "66f91133",
   "metadata": {},
   "outputs": [],
   "source": []
  }
 ],
 "metadata": {
  "kernelspec": {
   "display_name": "Python 3 (ipykernel)",
   "language": "python",
   "name": "python3"
  },
  "language_info": {
   "codemirror_mode": {
    "name": "ipython",
    "version": 3
   },
   "file_extension": ".py",
   "mimetype": "text/x-python",
   "name": "python",
   "nbconvert_exporter": "python",
   "pygments_lexer": "ipython3",
   "version": "3.9.12"
  }
 },
 "nbformat": 4,
 "nbformat_minor": 5
}
