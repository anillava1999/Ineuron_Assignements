{
 "cells": [
  {
   "cell_type": "markdown",
   "id": "49bb256b",
   "metadata": {},
   "source": [
    "<h1><center>Ineuron FSDS Assignment Second"
   ]
  },
  {
   "cell_type": "markdown",
   "id": "c7b9dd9b",
   "metadata": {},
   "source": [
    "**Q1. Find the largest number from the given list, use for loop.**"
   ]
  },
  {
   "cell_type": "code",
   "execution_count": 4,
   "id": "1aa96182",
   "metadata": {},
   "outputs": [],
   "source": [
    "numbers = [12, 75, 150, 180, 145, 525, 50]"
   ]
  },
  {
   "cell_type": "code",
   "execution_count": 5,
   "id": "18cd282f",
   "metadata": {},
   "outputs": [
    {
     "name": "stdout",
     "output_type": "stream",
     "text": [
      "The largest Number is  525\n"
     ]
    }
   ],
   "source": [
    "j = 0\n",
    "for i in numbers:\n",
    "    if i > j:\n",
    "        j = i\n",
    "print(\"The largest Number is \",j)\n",
    "        "
   ]
  },
  {
   "cell_type": "markdown",
   "id": "08050c5e",
   "metadata": {},
   "source": [
    "**Q2. Print all the even number between (1, 12).**"
   ]
  },
  {
   "cell_type": "code",
   "execution_count": 9,
   "id": "5d2f7e46",
   "metadata": {},
   "outputs": [
    {
     "name": "stdout",
     "output_type": "stream",
     "text": [
      "2\n",
      "4\n",
      "6\n",
      "8\n",
      "10\n"
     ]
    }
   ],
   "source": [
    "for i in range(1,12):\n",
    "    if i % 2 ==  0:\n",
    "        print(i)"
   ]
  },
  {
   "cell_type": "markdown",
   "id": "06d36914",
   "metadata": {},
   "source": [
    "**Q3. Calculate the sum of all numbers from 1 to a given number**"
   ]
  },
  {
   "cell_type": "code",
   "execution_count": 13,
   "id": "cd5e0b68",
   "metadata": {},
   "outputs": [
    {
     "name": "stdout",
     "output_type": "stream",
     "text": [
      "Enter the Number10\n",
      "55\n"
     ]
    }
   ],
   "source": [
    "inp = int(input(\"Enter the Number\"))\n",
    "j = 0\n",
    "for i in range(1,inp+1):\n",
    "    j = i + j\n",
    "print(j)"
   ]
  },
  {
   "cell_type": "markdown",
   "id": "74c97b9a",
   "metadata": {},
   "source": [
    "**Q4. Write a program to display only those numbers from a list that satisfy the following conditions**\n",
    "\n",
    "The number must be divisible by five\n",
    "\n",
    "If the number is greater than 150, then skip it and move to the next number\n",
    "\n",
    "If the number is greater than 500, then stop the loop"
   ]
  },
  {
   "cell_type": "code",
   "execution_count": 52,
   "id": "36813e0f",
   "metadata": {},
   "outputs": [],
   "source": [
    "numbers = [12, 75, 150, 180, 145, 525, 50,600]"
   ]
  },
  {
   "cell_type": "code",
   "execution_count": 68,
   "id": "5b3542be",
   "metadata": {},
   "outputs": [
    {
     "name": "stdout",
     "output_type": "stream",
     "text": [
      "The number must be divisible by five  75\n",
      "The number must be divisible by five  150\n",
      "The number must be divisible by five  180\n",
      "The number must be divisible by five  145\n",
      "The number must be divisible by five  525\n",
      "525\n"
     ]
    }
   ],
   "source": [
    "for i in numbers:\n",
    "    if i%5==0:\n",
    "        print(\"The number must be divisible by five \",i)\n",
    "        if i > 500:\n",
    "            print(i)\n",
    "            break\n",
    "        elif i > 150:\n",
    "            continue            "
   ]
  },
  {
   "cell_type": "markdown",
   "id": "71afe647",
   "metadata": {},
   "source": [
    "**Q5. Print the given list in reverse order.**"
   ]
  },
  {
   "cell_type": "code",
   "execution_count": 14,
   "id": "9d23371e",
   "metadata": {},
   "outputs": [],
   "source": [
    "list1 = [10, 20, 30, 40, 50]"
   ]
  },
  {
   "cell_type": "code",
   "execution_count": 17,
   "id": "e741b05b",
   "metadata": {},
   "outputs": [],
   "source": [
    "list1.reverse()"
   ]
  },
  {
   "cell_type": "code",
   "execution_count": 18,
   "id": "2f85bd87",
   "metadata": {},
   "outputs": [
    {
     "data": {
      "text/plain": [
       "[50, 40, 30, 20, 10]"
      ]
     },
     "execution_count": 18,
     "metadata": {},
     "output_type": "execute_result"
    }
   ],
   "source": [
    "list1"
   ]
  },
  {
   "cell_type": "markdown",
   "id": "3eef521d",
   "metadata": {},
   "source": [
    "**Another Technique**"
   ]
  },
  {
   "cell_type": "code",
   "execution_count": 19,
   "id": "eadd0112",
   "metadata": {},
   "outputs": [],
   "source": [
    "list1 = [10, 20, 30, 40, 50]"
   ]
  },
  {
   "cell_type": "code",
   "execution_count": 28,
   "id": "0103792b",
   "metadata": {},
   "outputs": [
    {
     "data": {
      "text/plain": [
       "[50, 40, 30, 20, 10]"
      ]
     },
     "execution_count": 28,
     "metadata": {},
     "output_type": "execute_result"
    }
   ],
   "source": [
    "list1[-1:-6:-1]"
   ]
  }
 ],
 "metadata": {
  "kernelspec": {
   "display_name": "Python 3 (ipykernel)",
   "language": "python",
   "name": "python3"
  },
  "language_info": {
   "codemirror_mode": {
    "name": "ipython",
    "version": 3
   },
   "file_extension": ".py",
   "mimetype": "text/x-python",
   "name": "python",
   "nbconvert_exporter": "python",
   "pygments_lexer": "ipython3",
   "version": "3.9.12"
  }
 },
 "nbformat": 4,
 "nbformat_minor": 5
}
