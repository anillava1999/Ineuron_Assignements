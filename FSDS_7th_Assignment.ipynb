{
 "cells": [
  {
   "cell_type": "markdown",
   "id": "73125e0a",
   "metadata": {},
   "source": [
    "<h1><center>Ineuron Python Basic 7th Assignement"
   ]
  },
  {
   "cell_type": "markdown",
   "id": "9e612e14",
   "metadata": {},
   "source": [
    "**1. What is the name of the feature responsible for generating Regex objects?**"
   ]
  },
  {
   "cell_type": "code",
   "execution_count": 1,
   "id": "c7d61c12",
   "metadata": {},
   "outputs": [
    {
     "data": {
      "text/plain": [
       "re.compile(r'string', re.UNICODE)"
      ]
     },
     "execution_count": 1,
     "metadata": {},
     "output_type": "execute_result"
    }
   ],
   "source": [
    "import re\n",
    "re.compile(\"string\")\n",
    "#The re.compile() function returns Regex objects."
   ]
  },
  {
   "cell_type": "markdown",
   "id": "ef777086",
   "metadata": {},
   "source": [
    "**2.Why do raw strings often appear in Regex objects?**\n",
    "\n",
    "Ans . Raw strings are used so that backslashes do not have to be escaped"
   ]
  },
  {
   "cell_type": "markdown",
   "id": "2e854d35",
   "metadata": {},
   "source": [
    "**3. What is the return value of the search() method ?**\n",
    "\n",
    "Ans . The search() method searches a string for a specified value, and returns the position of the match.\n",
    "\n",
    "The search value can be string or a regular expression. This method returns -1 if no match is found"
   ]
  },
  {
   "cell_type": "markdown",
   "id": "88a823de",
   "metadata": {},
   "source": [
    "**4.From a Match item, how do you get the actual strings that match the pattern?**"
   ]
  },
  {
   "cell_type": "code",
   "execution_count": 2,
   "id": "693be1a2",
   "metadata": {},
   "outputs": [
    {
     "name": "stdout",
     "output_type": "stream",
     "text": [
      "Phone number is: 345-444-4542\n"
     ]
    }
   ],
   "source": [
    "\n",
    "phoneNumRegex = re.compile(r'\\d\\d\\d-\\d\\d\\d-\\d\\d\\d\\d')\n",
    "mo = phoneNumRegex.search('My number is 345-444-4542.')\n",
    "print('Phone number is: ' + mo.group())\n",
    "#Calling matchingObject.group() will return the string."
   ]
  },
  {
   "cell_type": "markdown",
   "id": "ffea2f1b",
   "metadata": {},
   "source": [
    "**5. in the regex which created from the r'(\\d\\d\\d)-(\\d\\d\\d-\\d\\d\\d\\d)', what does group zero cover?**\n",
    "\n",
    "Group 2? Group 1?"
   ]
  },
  {
   "cell_type": "code",
   "execution_count": 3,
   "id": "c994ee80",
   "metadata": {},
   "outputs": [
    {
     "data": {
      "text/plain": [
       "'345'"
      ]
     },
     "execution_count": 3,
     "metadata": {},
     "output_type": "execute_result"
    }
   ],
   "source": [
    "phoneNumRegex = re.compile(r'(\\d\\d\\d)-(\\d\\d\\d-\\d\\d\\d\\d)')\n",
    "mo = phoneNumRegex.search('My number is 345-444-4542.')\n",
    "mo.group(1)"
   ]
  },
  {
   "cell_type": "code",
   "execution_count": 4,
   "id": "f6654379",
   "metadata": {},
   "outputs": [
    {
     "data": {
      "text/plain": [
       "'444-4542'"
      ]
     },
     "execution_count": 4,
     "metadata": {},
     "output_type": "execute_result"
    }
   ],
   "source": [
    "mo.group(2)"
   ]
  },
  {
   "cell_type": "code",
   "execution_count": 5,
   "id": "c0b9fba6",
   "metadata": {},
   "outputs": [
    {
     "data": {
      "text/plain": [
       "'345-444-4542'"
      ]
     },
     "execution_count": 5,
     "metadata": {},
     "output_type": "execute_result"
    }
   ],
   "source": [
    "mo.group(0)"
   ]
  },
  {
   "cell_type": "markdown",
   "id": "4d0ce1c4",
   "metadata": {},
   "source": [
    "**6. In standard expression syntax, parentheses and intervals have distinct meanings. How can you tell a regex that you want it to fit real parentheses and periods?**\n",
    "\n",
    "Ans. Periods and parentheses can be escaped with a backslash: ., (, and )."
   ]
  },
  {
   "cell_type": "markdown",
   "id": "eac141cc",
   "metadata": {},
   "source": [
    "**7.The findall() method returns a string list or a list of string tuples. What causes it to return one of the two options?**\n",
    "\n",
    "Ans. If the regex has no groups, a list of strings is returned. If the regex has groups, a list of tuples of strings is returned."
   ]
  },
  {
   "cell_type": "markdown",
   "id": "c93df4c5",
   "metadata": {},
   "source": [
    "**7.In standard expressions, what does the | character mean?**\n",
    "\n",
    "Ans. The | character is called a pipe. You can use it anywhere you want to match one of many expressions.\n",
    "\n",
    "For example, the regular expression r'Cricket|Soccer Sport' will match either 'Cricket' or 'Soccer Sport'.\n",
    "\n",
    "When both Cricket and Soccer Sport occur in the searched string, the first occurrence of matching text will be returned as the Match object.\n",
    "\n",
    "The | character signifies matching “either, or” between two groups"
   ]
  },
  {
   "cell_type": "code",
   "execution_count": 6,
   "id": "9b3877dc",
   "metadata": {},
   "outputs": [
    {
     "data": {
      "text/plain": [
       "'Cricket'"
      ]
     },
     "execution_count": 6,
     "metadata": {},
     "output_type": "execute_result"
    }
   ],
   "source": [
    "SportRegex = re.compile (r'Cricket|Soccer Sport')\n",
    "s1 = SportRegex.search('Cricket and Soccer Sport')\n",
    "s1.group()"
   ]
  },
  {
   "cell_type": "code",
   "execution_count": 7,
   "id": "b2262c58",
   "metadata": {},
   "outputs": [
    {
     "data": {
      "text/plain": [
       "'Soccer Sport'"
      ]
     },
     "execution_count": 7,
     "metadata": {},
     "output_type": "execute_result"
    }
   ],
   "source": [
    "s2 = SportRegex.search('Soccer Sport and Cricket')\n",
    "s2.group()"
   ]
  },
  {
   "cell_type": "markdown",
   "id": "00d6d857",
   "metadata": {},
   "source": [
    "**8. In regular expressions, what does the ? character stand for?**\n",
    "\n",
    "Ans. The ? character can either mean “match zero or one of the preceding group”."
   ]
  },
  {
   "cell_type": "code",
   "execution_count": 8,
   "id": "e07902f4",
   "metadata": {},
   "outputs": [
    {
     "data": {
      "text/plain": [
       "'Batman'"
      ]
     },
     "execution_count": 8,
     "metadata": {},
     "output_type": "execute_result"
    }
   ],
   "source": [
    "batRegex = re.compile(r'Bat(wo)?man')\n",
    "mo1 = batRegex.search('The Adventures of Batman')\n",
    "mo1.group()"
   ]
  },
  {
   "cell_type": "code",
   "execution_count": 9,
   "id": "c0a8a582",
   "metadata": {},
   "outputs": [
    {
     "data": {
      "text/plain": [
       "'Batwoman'"
      ]
     },
     "execution_count": 9,
     "metadata": {},
     "output_type": "execute_result"
    }
   ],
   "source": [
    "mo2 = batRegex.search('The Adventures of Batwoman')\n",
    "mo2.group()"
   ]
  },
  {
   "cell_type": "markdown",
   "id": "c93857a8",
   "metadata": {},
   "source": [
    "**9.In regular expressions, what is the difference between the + and * characters?**\n",
    "\n",
    "Ans. The + matches one or more. The * matches zero or more"
   ]
  },
  {
   "cell_type": "markdown",
   "id": "554092eb",
   "metadata": {},
   "source": [
    "**10.What is the difference between {4} and {4,5} in regular expression?**\n",
    "\n",
    "Ans. The {3} matches exactly three instances of the preceding group.\n",
    "\n",
    "The {3,5} matches between three and five instances"
   ]
  },
  {
   "cell_type": "markdown",
   "id": "ed03ed87",
   "metadata": {},
   "source": [
    "**11.What do you mean by the \\d, \\w, and \\s shorthand character classes signify in regular expressions?**\n",
    "\n",
    "Ans .The \\d, stands for single digit, Any numeric digit from 0 to 9\n",
    "\n",
    "\\w, stands for single word, Any letter, numeric digit, or the underscore character. (Think of this as matching “word” characters.) \\s stands for single space character, Any space, tab, or newline character. (Think of this as matching “space” characters.)"
   ]
  },
  {
   "cell_type": "markdown",
   "id": "45ea6688",
   "metadata": {},
   "source": [
    "**12.What do means by \\D, \\W, and \\S shorthand character classes signify in regular expressions?**\n",
    "\n",
    "Ans. \\D - > Any character that is not a numeric digit from 0 to 9.\n",
    "\n",
    "\\W - > Any character that is not a letter, numeric digit, or the underscore character.\n",
    "\n",
    "\\S - > Any character that is not a space, tab, or newline."
   ]
  },
  {
   "cell_type": "markdown",
   "id": "39898e99",
   "metadata": {},
   "source": [
    "**13.What is the difference between .? and .?**\n",
    "\n",
    "Ans) .* - The dot-star uses greedy mode: It will always try to match as much text as possible.\n",
    "\n",
    ".? - To match any and all text in a non-greedy fashion, use the dot, star, and question mark (.?). Like with braces, the question mark tells Python to match in a non-greedy way."
   ]
  },
  {
   "cell_type": "raw",
   "id": "ae0b1036",
   "metadata": {},
   "source": [
    "greedyRegex = re.compile(r'<.*>')\n",
    "mo = greedyRegex.search(' for dinner.>')\n",
    "mo.group()"
   ]
  },
  {
   "cell_type": "raw",
   "id": "afbf5dbb",
   "metadata": {},
   "source": [
    "nongreedyRegex = re.compile(r'<.*?>')\n",
    "mo = nongreedyRegex.search(' for dinner.>')\n",
    "mo.group()"
   ]
  },
  {
   "cell_type": "markdown",
   "id": "9fe7cf10",
   "metadata": {},
   "source": [
    "**14.What is the syntax for matching both numbers and lowercase letters with a character class?**\n",
    "\n",
    "Ans. Either [0-9a-z] or [a-z0-9]"
   ]
  },
  {
   "cell_type": "code",
   "execution_count": 13,
   "id": "df0729e4",
   "metadata": {},
   "outputs": [
    {
     "data": {
      "text/plain": [
       "'1'"
      ]
     },
     "execution_count": 13,
     "metadata": {},
     "output_type": "execute_result"
    }
   ],
   "source": [
    "reg1 = re.compile(r'[0-9a-z]')\n",
    "reg2 = re.compile(r'[a-z0-9]')\n",
    "\n",
    "mo1 = reg1.search('100 times I am Reading  this for 100 th time')\n",
    "mo1.group()"
   ]
  },
  {
   "cell_type": "code",
   "execution_count": 14,
   "id": "0f60bbb1",
   "metadata": {},
   "outputs": [
    {
     "data": {
      "text/plain": [
       "'t'"
      ]
     },
     "execution_count": 14,
     "metadata": {},
     "output_type": "execute_result"
    }
   ],
   "source": [
    "reg2 = re.compile(r'[a-z0-9]')\n",
    "\n",
    "mo1 = reg2.search('times I am Reading  this for 100 th time')\n",
    "mo1.group()"
   ]
  },
  {
   "cell_type": "markdown",
   "id": "2b404344",
   "metadata": {},
   "source": [
    "**15.What is the procedure for making a normal expression in regax case insensitive?**\n",
    "\n",
    "Ans. Passing re.I or re.IGNORECASE as the second argument to re.compile() will make the matching case insensitive"
   ]
  },
  {
   "cell_type": "code",
   "execution_count": 15,
   "id": "e8604794",
   "metadata": {},
   "outputs": [
    {
     "data": {
      "text/plain": [
       "'Machine'"
      ]
     },
     "execution_count": 15,
     "metadata": {},
     "output_type": "execute_result"
    }
   ],
   "source": [
    "casesen = re.compile(r'machine', re.I)\n",
    "casesen.search('Machine learning is part of data science').group()"
   ]
  },
  {
   "cell_type": "code",
   "execution_count": 16,
   "id": "6175e17b",
   "metadata": {},
   "outputs": [
    {
     "data": {
      "text/plain": [
       "'MACHINE'"
      ]
     },
     "execution_count": 16,
     "metadata": {},
     "output_type": "execute_result"
    }
   ],
   "source": [
    "casesen.search('MACHINE is learning.').group()"
   ]
  },
  {
   "cell_type": "markdown",
   "id": "8a98ae60",
   "metadata": {},
   "source": [
    "**16.What does the . character normally match? What does it match if re.DOTALL is passed as 2nd argument in re.compile()?**\n",
    "\n",
    "The . character normally matches any character except the newline character.\n",
    "\n",
    "If re.DOTALL is passed as the second argument to re.compile(), then the dot will also match newline characters."
   ]
  },
  {
   "cell_type": "markdown",
   "id": "01ebfc33",
   "metadata": {},
   "source": [
    "**17.If numRegex = re.compile(r'\\d+'), what will numRegex.sub('X', '11 drummers, 10 pipers, five rings, 4 hen') return?**"
   ]
  },
  {
   "cell_type": "code",
   "execution_count": 17,
   "id": "deccda04",
   "metadata": {},
   "outputs": [
    {
     "data": {
      "text/plain": [
       "'X drummers, X pipers, five rings, X hen'"
      ]
     },
     "execution_count": 17,
     "metadata": {},
     "output_type": "execute_result"
    }
   ],
   "source": [
    "numRegex = re.compile(r'\\d+')\n",
    "mo = numRegex.sub('X', '11 drummers, 10 pipers, five rings, 4 hen')\n",
    "mo"
   ]
  },
  {
   "cell_type": "markdown",
   "id": "08675494",
   "metadata": {},
   "source": [
    "**18.What does passing re.VERBOSE as the 2nd argument to re.compile() allow to do?**\n",
    "\n",
    "Ans. The re.VERBOSE argument allows you to add whitespace and comments to the string passed to re.compile()"
   ]
  },
  {
   "cell_type": "markdown",
   "id": "b029b62d",
   "metadata": {},
   "source": [
    "**19.How would you write a regex that match a number with comma for every three digits? It must match the given following:**"
   ]
  },
  {
   "cell_type": "code",
   "execution_count": 18,
   "id": "b7e34f5f",
   "metadata": {},
   "outputs": [
    {
     "data": {
      "text/plain": [
       "'42'"
      ]
     },
     "execution_count": 18,
     "metadata": {},
     "output_type": "execute_result"
    }
   ],
   "source": [
    "reg1 = re.compile(r'^\\d{1,3}(,\\d{3})*$')\n",
    "mo1 = reg1.search('42')\n",
    "mo1.group()"
   ]
  },
  {
   "cell_type": "code",
   "execution_count": 19,
   "id": "1cb8e4de",
   "metadata": {},
   "outputs": [
    {
     "data": {
      "text/plain": [
       "'1,234'"
      ]
     },
     "execution_count": 19,
     "metadata": {},
     "output_type": "execute_result"
    }
   ],
   "source": [
    "reg1 = re.compile(r'^\\d{1,3}(,\\d{3})*$')\n",
    "mo1 = reg1.search('1,234')\n",
    "mo1.group()"
   ]
  },
  {
   "cell_type": "code",
   "execution_count": 20,
   "id": "790b5b4a",
   "metadata": {},
   "outputs": [
    {
     "data": {
      "text/plain": [
       "'6,368,745'"
      ]
     },
     "execution_count": 20,
     "metadata": {},
     "output_type": "execute_result"
    }
   ],
   "source": [
    "reg1 = re.compile(r'^\\d{1,3}(,\\d{3})*$')\n",
    "mo1 = reg1.search('6,368,745')\n",
    "mo1.group()"
   ]
  },
  {
   "cell_type": "code",
   "execution_count": null,
   "id": "42227659",
   "metadata": {},
   "outputs": [],
   "source": []
  }
 ],
 "metadata": {
  "kernelspec": {
   "display_name": "Python 3 (ipykernel)",
   "language": "python",
   "name": "python3"
  },
  "language_info": {
   "codemirror_mode": {
    "name": "ipython",
    "version": 3
   },
   "file_extension": ".py",
   "mimetype": "text/x-python",
   "name": "python",
   "nbconvert_exporter": "python",
   "pygments_lexer": "ipython3",
   "version": "3.9.12"
  }
 },
 "nbformat": 4,
 "nbformat_minor": 5
}
